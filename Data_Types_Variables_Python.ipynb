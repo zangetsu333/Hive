{
  "nbformat": 4,
  "nbformat_minor": 0,
  "metadata": {
    "colab": {
      "provenance": [],
      "authorship_tag": "ABX9TyOH0o9UeyesxJuE9dBz4yJ5",
      "include_colab_link": true
    },
    "kernelspec": {
      "name": "python3",
      "display_name": "Python 3"
    },
    "language_info": {
      "name": "python"
    }
  },
  "cells": [
    {
      "cell_type": "markdown",
      "metadata": {
        "id": "view-in-github",
        "colab_type": "text"
      },
      "source": [
        "<a href=\"https://colab.research.google.com/github/zangetsu333/Hive/blob/main/Data_Types_Variables_Python.ipynb\" target=\"_parent\"><img src=\"https://colab.research.google.com/assets/colab-badge.svg\" alt=\"Open In Colab\"/></a>"
      ]
    },
    {
      "cell_type": "code",
      "execution_count": null,
      "metadata": {
        "colab": {
          "base_uri": "https://localhost:8080/"
        },
        "id": "PP8YPvr9NZaT",
        "outputId": "0e56766c-c813-44f1-fc36-9a52eeae98fb"
      },
      "outputs": [
        {
          "output_type": "stream",
          "name": "stdout",
          "text": [
            "Hello World!\n"
          ]
        }
      ],
      "source": [
        "print(\"Hello World!\")"
      ]
    },
    {
      "cell_type": "code",
      "source": [
        "print(\"Welocme to padhi!\")"
      ],
      "metadata": {
        "colab": {
          "base_uri": "https://localhost:8080/"
        },
        "id": "LCOGvacEPh0C",
        "outputId": "83294c8c-07b2-4bfa-a213-c09884468981"
      },
      "execution_count": null,
      "outputs": [
        {
          "output_type": "stream",
          "name": "stdout",
          "text": [
            "Welocme to padhi!\n"
          ]
        }
      ]
    },
    {
      "cell_type": "code",
      "source": [
        "print(\"Pad\"+\"AI\")"
      ],
      "metadata": {
        "colab": {
          "base_uri": "https://localhost:8080/"
        },
        "id": "c-Vaj2pEPnmp",
        "outputId": "cfae561a-e043-4c94-dd30-4bef46239d93"
      },
      "execution_count": null,
      "outputs": [
        {
          "output_type": "stream",
          "name": "stdout",
          "text": [
            "PadAI\n"
          ]
        }
      ]
    },
    {
      "cell_type": "code",
      "source": [
        "print(1729)"
      ],
      "metadata": {
        "colab": {
          "base_uri": "https://localhost:8080/"
        },
        "id": "AyTNU8kIQJca",
        "outputId": "7dea0620-5cf6-4384-c0d4-a9714546cff1"
      },
      "execution_count": null,
      "outputs": [
        {
          "output_type": "stream",
          "name": "stdout",
          "text": [
            "1729\n"
          ]
        }
      ]
    },
    {
      "cell_type": "code",
      "source": [
        "print(1000+729) # check this with Ramanujan entry"
      ],
      "metadata": {
        "colab": {
          "base_uri": "https://localhost:8080/"
        },
        "id": "-5MIRAWjRrUy",
        "outputId": "e596e79b-288d-423b-a6fa-c6cea26d40dc"
      },
      "execution_count": null,
      "outputs": [
        {
          "output_type": "stream",
          "name": "stdout",
          "text": [
            "1729\n"
          ]
        }
      ]
    },
    {
      "cell_type": "code",
      "source": [
        "print(55/34) # Golden Ratio"
      ],
      "metadata": {
        "colab": {
          "base_uri": "https://localhost:8080/"
        },
        "id": "tv9HJ8NeRycy",
        "outputId": "24c10012-547a-4ac3-d2d8-66b790b2afee"
      },
      "execution_count": null,
      "outputs": [
        {
          "output_type": "stream",
          "name": "stdout",
          "text": [
            "1.6176470588235294\n"
          ]
        }
      ]
    },
    {
      "cell_type": "markdown",
      "source": [
        "Variables and Inputs"
      ],
      "metadata": {
        "id": "rp8AeIYETWYj"
      }
    },
    {
      "cell_type": "code",
      "source": [
        "school=\"PadAI\""
      ],
      "metadata": {
        "id": "EvkQK4vFTbqj"
      },
      "execution_count": null,
      "outputs": []
    },
    {
      "cell_type": "code",
      "source": [
        "print(type(school))"
      ],
      "metadata": {
        "id": "4-9oj8pOUKBk",
        "outputId": "447204f4-2e44-4b0d-f329-339ff4715507",
        "colab": {
          "base_uri": "https://localhost:8080/"
        }
      },
      "execution_count": null,
      "outputs": [
        {
          "output_type": "stream",
          "name": "stdout",
          "text": [
            "<class 'str'>\n"
          ]
        }
      ]
    },
    {
      "cell_type": "code",
      "source": [],
      "metadata": {
        "id": "e5tMadCPUPrd"
      },
      "execution_count": null,
      "outputs": []
    }
  ]
}